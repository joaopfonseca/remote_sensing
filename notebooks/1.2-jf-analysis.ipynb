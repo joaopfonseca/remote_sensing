{
 "cells": [
  {
   "cell_type": "markdown",
   "metadata": {},
   "source": [
    "# LUCAS Dataset imbalanced class prediction problem\n",
    "\n",
    "## Imports"
   ]
  },
  {
   "cell_type": "code",
   "execution_count": null,
   "metadata": {},
   "outputs": [],
   "source": [
    "import pandas as pd\n",
    "import sqlite3\n",
    "import pandas_profiling\n",
    "import numpy as np\n",
    "import seaborn as sns\n",
    "import matplotlib.pyplot as plt\n",
    "\n",
    "# preprocessing\n",
    "from sklearn.preprocessing import StandardScaler\n",
    "\n",
    "# oversamplers\n",
    "from sklearnext.over_sampling import SMOTE, GeometricSMOTE, RandomOverSampler\n",
    "\n",
    "# classifiers\n",
    "from sklearn.tree import DecisionTreeClassifier\n",
    "from sklearn.neighbors import KNeighborsClassifier\n",
    "from sklearn.ensemble import GradientBoostingClassifier\n",
    "from sklearn.linear_model import LogisticRegression\n",
    "\n",
    "# utils\n",
    "from sklearnext.model_selection import ModelSearchCV\n",
    "from sklearnext.tools import report_model_search_results\n",
    "from sklearn.multiclass import OneVsRestClassifier, OneVsOneClassifier\n",
    "from imblearn.pipeline import Pipeline\n",
    "from sklearn.model_selection import StratifiedKFold\n"
   ]
  },
  {
   "cell_type": "markdown",
   "metadata": {},
   "source": [
    "## Hyperparams"
   ]
  },
  {
   "cell_type": "code",
   "execution_count": null,
   "metadata": {},
   "outputs": [],
   "source": [
    "%config InlineBackend.figure_format = 'retina'\n",
    "\n",
    "correlation_threshold = 0.9"
   ]
  },
  {
   "cell_type": "markdown",
   "metadata": {},
   "source": [
    "## Reading pre-treated data"
   ]
  },
  {
   "cell_type": "code",
   "execution_count": null,
   "metadata": {},
   "outputs": [],
   "source": [
    "data_version = 'wide'\n",
    "\n",
    "if data_version == 'long':\n",
    "    conn = sqlite3.connect('../data/interim/remote_sensing_data.db')\n",
    "    df = pd.read_sql_query('SELECT * FROM lucas', conn)\n",
    "elif data_version == 'wide':\n",
    "    df = pd.read_csv('../data/interim/data.csv')\n",
    "    df = df[list(df.columns)[1:]+['class']]\n"
   ]
  },
  {
   "cell_type": "markdown",
   "metadata": {},
   "source": [
    "## General data exploration"
   ]
  },
  {
   "cell_type": "code",
   "execution_count": null,
   "metadata": {},
   "outputs": [],
   "source": [
    "df.groupby('class').size()"
   ]
  },
  {
   "cell_type": "markdown",
   "metadata": {},
   "source": [
    "![class labels](https://ec.europa.eu/eurostat/statistics-explained/images/9/99/LUCAS_-_classification_of_land_cover.png)"
   ]
  },
  {
   "cell_type": "code",
   "execution_count": null,
   "metadata": {},
   "outputs": [],
   "source": [
    "# Degree of Dimensionality\n",
    "DoD = lambda sample_size, features: sample_size/features\n",
    "ft = len(df.columns)-1 # -1 is used to disregard the column \"class\"\n",
    "df.groupby('class').size().apply(lambda sample_size: DoD(sample_size, ft))"
   ]
  },
  {
   "cell_type": "code",
   "execution_count": null,
   "metadata": {
    "scrolled": true
   },
   "outputs": [],
   "source": [
    "# Imbalance Ratio\n",
    "IR = lambda majority_class, class_label: majority_class/class_label\n",
    "majority_class = df.groupby('class').size().max()\n",
    "df.groupby('class').size().apply(lambda class_size: IR(majority_class, class_size))"
   ]
  },
  {
   "cell_type": "code",
   "execution_count": null,
   "metadata": {},
   "outputs": [],
   "source": [
    "report = pandas_profiling.ProfileReport(df, correlation_threshold=correlation_threshold)\n",
    "report"
   ]
  },
  {
   "cell_type": "code",
   "execution_count": null,
   "metadata": {},
   "outputs": [],
   "source": [
    "def make_corr_table(df, method='spearman', fig_size=(15,15)):\n",
    "    corr = df.corr(method=method)\n",
    "    # remove the upper diagonal of the correlation matrix\n",
    "    mask = np.zeros_like(corr)\n",
    "    mask[np.triu_indices_from(mask)] = True\n",
    "\n",
    "    with sns.axes_style(\"white\"):\n",
    "        fig, ax = plt.subplots()\n",
    "        fig.set_size_inches(fig_size[0], fig_size[1])\n",
    "        sns.heatmap(corr, mask=mask, vmin=-1, vmax=1, square=True, ax=ax, cmap='RdBu_r')\n",
    "    \n",
    "    \n",
    "make_corr_table(df)"
   ]
  },
  {
   "cell_type": "markdown",
   "metadata": {},
   "source": [
    "## Preprocessing stage"
   ]
  },
  {
   "cell_type": "code",
   "execution_count": null,
   "metadata": {},
   "outputs": [],
   "source": [
    "# See notebook 2.0 if further preprocessing is necessary\n",
    "sc = StandardScaler()\n",
    "_X = df.values[:,:-1]\n",
    "X = sc.fit_transform(_X)\n",
    "y = df.values[:,-1]\n",
    "\n",
    "\n",
    "\n",
    "\n"
   ]
  },
  {
   "cell_type": "markdown",
   "metadata": {},
   "source": [
    "## Modelling"
   ]
  },
  {
   "cell_type": "code",
   "execution_count": null,
   "metadata": {},
   "outputs": [],
   "source": [
    "def model_search(X, y, approach='standard'):\n",
    "    \"\"\"\n",
    "    Function built for convenience purposes. oversamplers, classifiers etc etc must be edited in the function itself,\n",
    "    if necessary.\n",
    "    \"\"\"\n",
    "    global oversamplers, classifiers, grid, param_grids, estimators\n",
    "    \n",
    "    configs = {\n",
    "        'scoring': ['f1_weighted', 'accuracy'],\n",
    "        'n_splits': 5,\n",
    "        'n_runs': 3,\n",
    "        'random_state': 0,\n",
    "        'n_jobs': -1,\n",
    "        'verbose':1\n",
    "    }\n",
    "    \n",
    "    \n",
    "    oversamplers = [\n",
    "        ('none', None),\n",
    "        #('RandomOverSampler', RandomOverSampler()),\n",
    "        #('smote', SMOTE()),\n",
    "        ('gsmote', GeometricSMOTE())\n",
    "    ]\n",
    "\n",
    "    classifiers = [\n",
    "        #('GBC', GradientBoostingClassifier()),\n",
    "        ('DT', DecisionTreeClassifier()),\n",
    "        ('KNN', KNeighborsClassifier()),\n",
    "        #('LR', LogisticRegression(solver='lbfgs', penalty='l2', max_iter=1e4)),\n",
    "    ]\n",
    "\n",
    "\n",
    "    grid = {\n",
    "        #'smote': {'k_neighbors': [2, 3, 4, 5]},\n",
    "        'gsmote': {\n",
    "            'k_neighbors': [2, 3, 4, 5],\n",
    "            #'truncation_factor': [-1.0, -0.5, .0, 0.25, 0.5, 0.75, 1.0], \n",
    "            #'deformation_factor': [.0, 0.2, 0.4, 0.5, 0.6, 0.8, 1.0],\n",
    "            #'selection_strategy': ['combined', 'minority', 'majority']\n",
    "        },\n",
    "        'DT':{'max_depth': [3, 6]},\n",
    "        'KNN':{'n_neighbors':[3,4,5,6,7]},\n",
    "        #'GBC':{\n",
    "        #    'max_depth': [3, 6], \n",
    "        #    'n_estimators': [50, 100]\n",
    "        #}\n",
    "    }\n",
    "\n",
    "    param_grids = []\n",
    "    estimators = []\n",
    "    \n",
    "    for oversampler in oversamplers:\n",
    "        for classifier in classifiers:\n",
    "\n",
    "            # sets up pipeline with name\n",
    "            name = f'{oversampler[0]}+{classifier[0]}'\n",
    "            if approach == 'standard':\n",
    "                estimators.append((name, Pipeline([oversampler, classifier])))\n",
    "            elif approach == 'onevsrest':\n",
    "                estimators.append((name, OneVsRestClassifier(Pipeline([oversampler, classifier]))))\n",
    "            elif approach == 'onevsone':\n",
    "                estimators.append((name, OneVsOneClassifier(Pipeline([oversampler, classifier]))))\n",
    "                \n",
    "\n",
    "            # sets up param grid for the estimator\n",
    "            param_grid = {}\n",
    "            if oversampler[0] in grid.keys(): \n",
    "                for key, value in grid[oversampler[0]].items():\n",
    "                    if approach == 'standard':\n",
    "                        param_grid[f'{name}__{oversampler[0]}__{key}'] = value\n",
    "                    elif approach in ['onevsrest', 'onevsone']:\n",
    "                        param_grid[f'{name}__estimator__{oversampler[0]}__{key}'] = value\n",
    "\n",
    "            if classifier[0]  in grid.keys(): \n",
    "                for key, value in grid[classifier[0]].items():\n",
    "                    if approach == 'standard':\n",
    "                        param_grid[f'{name}__{classifier[0]}__{key}'] = value\n",
    "                    elif approach in ['onevsrest', 'onevsone']:\n",
    "                        param_grid[f'{name}__estimator__{classifier[0]}__{key}'] = value\n",
    "            if len(param_grid)>0:\n",
    "                param_grids.append(param_grid)\n",
    "\n",
    "\n",
    "    model_search_cv = ModelSearchCV(\n",
    "        estimators=estimators, \n",
    "        param_grids=param_grids, \n",
    "        scoring=configs['scoring'], \n",
    "        cv=StratifiedKFold(n_splits=configs['n_splits'], shuffle=True),\n",
    "        refit=False, \n",
    "        n_jobs=configs['n_jobs'],\n",
    "        verbose=configs['verbose']\n",
    "    )\n",
    "\n",
    "    model_search_cv.fit(X, y)\n",
    "\n",
    "    return model_search_cv"
   ]
  },
  {
   "cell_type": "code",
   "execution_count": null,
   "metadata": {},
   "outputs": [],
   "source": [
    "param_grids\n",
    "\n"
   ]
  },
  {
   "cell_type": "markdown",
   "metadata": {},
   "source": [
    "## Experiments"
   ]
  },
  {
   "cell_type": "code",
   "execution_count": null,
   "metadata": {},
   "outputs": [],
   "source": [
    "\n",
    "approaches = ['standard', 'onevsrest', 'onevsone']\n",
    "results = {}\n",
    "for approach in approaches:\n",
    "    model_search_cv = model_search(X, y, approach=approach)\n",
    "    results[approach] = report_model_search_results(model_search_cv)\n",
    "\n",
    "cols = list(list(results.values())[0].columns)\n",
    "cols.append('method')\n",
    "df_results = pd.DataFrame(columns=cols)\n",
    "\n",
    "for key, df_pre_results in results.items():\n",
    "    df_pre_results['method'] = key\n",
    "    df_results = pd.concat([df_results, df_pre_results])\n",
    "\n",
    "df_results['oversampler'] = df_results['models'].apply(lambda x: x.split('+')[0])\n",
    "df_results['classifier'] = df_results['models'].apply(lambda x: x.split('+')[1])\n",
    "df_results.shape"
   ]
  },
  {
   "cell_type": "code",
   "execution_count": null,
   "metadata": {},
   "outputs": [],
   "source": []
  },
  {
   "cell_type": "code",
   "execution_count": null,
   "metadata": {},
   "outputs": [],
   "source": []
  },
  {
   "cell_type": "code",
   "execution_count": null,
   "metadata": {},
   "outputs": [],
   "source": []
  },
  {
   "cell_type": "code",
   "execution_count": null,
   "metadata": {},
   "outputs": [],
   "source": []
  }
 ],
 "metadata": {
  "kernelspec": {
   "display_name": "Python 3",
   "language": "python",
   "name": "python3"
  },
  "language_info": {
   "codemirror_mode": {
    "name": "ipython",
    "version": 3
   },
   "file_extension": ".py",
   "mimetype": "text/x-python",
   "name": "python",
   "nbconvert_exporter": "python",
   "pygments_lexer": "ipython3",
   "version": "3.7.4"
  }
 },
 "nbformat": 4,
 "nbformat_minor": 2
}
