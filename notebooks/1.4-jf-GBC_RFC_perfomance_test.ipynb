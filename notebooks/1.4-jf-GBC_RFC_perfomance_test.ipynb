{
 "cells": [
  {
   "cell_type": "code",
   "execution_count": 23,
   "metadata": {},
   "outputs": [],
   "source": [
    "import pandas as pd\n",
    "import numpy as np\n",
    "\n",
    "# preprocessing\n",
    "from sklearn.preprocessing import StandardScaler\n",
    "\n",
    "# classifiers\n",
    "from sklearn.ensemble import GradientBoostingClassifier, RandomForestClassifier\n",
    "\n",
    "# scoring\n",
    "from sklearn.model_selection import train_test_split\n",
    "from imblearn.metrics import classification_report_imbalanced\n",
    "\n",
    "# to use in the timing decorator\n",
    "from functools import wraps\n",
    "from time import time\n"
   ]
  },
  {
   "cell_type": "code",
   "execution_count": 24,
   "metadata": {},
   "outputs": [],
   "source": [
    "df = pd.read_csv('../data/interim/data.csv')\n",
    "df = df[list(df.columns)[1:]+['class']]\n",
    "\n",
    "X = df.values[:,:-1]\n",
    "y = df.values[:,-1]\n",
    "\n",
    "X_train, X_test, y_train, y_test = train_test_split(X, y, test_size=0.2)"
   ]
  },
  {
   "cell_type": "code",
   "execution_count": 25,
   "metadata": {},
   "outputs": [],
   "source": [
    "gbc = GradientBoostingClassifier()\n",
    "rfc = RandomForestClassifier()"
   ]
  },
  {
   "cell_type": "code",
   "execution_count": 36,
   "metadata": {},
   "outputs": [],
   "source": [
    "def timing(f):\n",
    "    # Adapted from: https://codereview.stackexchange.com/questions/169870/decorator-to-measure-execution-time-of-a-function\n",
    "    @wraps(f)\n",
    "    def wrapper(*args, **kwargs):\n",
    "        start = time()\n",
    "        result = f(*args, **kwargs)\n",
    "        end = time()\n",
    "        print('Ran function {}. Elapsed time: {}'.format(f.__name__,end-start))\n",
    "        return result\n",
    "    return wrapper\n",
    "\n",
    "\n",
    "@timing\n",
    "def get_classifier_performance(clf, X_train, X_test, y_train, y_test):\n",
    "    title = f'{clf.__class__.__name__} - Results'\n",
    "    div = '='*len(title)\n",
    "    print(div+'\\n'+title+'\\n'+div)\n",
    "    clf.fit(X_train, y_train)\n",
    "    y_pred_bal = clf.predict(X_test)\n",
    "    print(classification_report_imbalanced(y_test, y_pred_bal))\n"
   ]
  },
  {
   "cell_type": "code",
   "execution_count": 39,
   "metadata": {},
   "outputs": [
    {
     "name": "stdout",
     "output_type": "stream",
     "text": [
      "====================================\n",
      "GradientBoostingClassifier - Results\n",
      "====================================\n",
      "                   pre       rec       spe        f1       geo       iba       sup\n",
      "\n",
      "          A       0.68      0.43      0.98      0.53      0.65      0.40        30\n",
      "          B       0.50      0.55      0.88      0.52      0.70      0.47        60\n",
      "          C       0.70      0.84      0.74      0.76      0.79      0.63       142\n",
      "          D       0.51      0.37      0.93      0.43      0.59      0.32        57\n",
      "          E       0.42      0.37      0.93      0.39      0.58      0.32        41\n",
      "          F       0.20      0.17      0.99      0.18      0.41      0.15         6\n",
      "          G       0.00      0.00      0.99      0.00      0.00      0.00         3\n",
      "\n",
      "avg / total       0.58      0.60      0.85      0.58      0.69      0.48       339\n",
      "\n",
      "Ran function get_classifier_performance. Elapsed time: 3.986984968185425\n"
     ]
    }
   ],
   "source": [
    "get_classifier_performance(gbc, X_train, X_test, y_train, y_test)"
   ]
  },
  {
   "cell_type": "code",
   "execution_count": 40,
   "metadata": {},
   "outputs": [
    {
     "name": "stdout",
     "output_type": "stream",
     "text": [
      "================================\n",
      "RandomForestClassifier - Results\n",
      "================================\n",
      "                   pre       rec       spe        f1       geo       iba       sup\n",
      "\n",
      "          A       0.37      0.33      0.94      0.35      0.56      0.30        30\n",
      "          B       0.46      0.52      0.87      0.48      0.67      0.43        60\n",
      "          C       0.67      0.88      0.69      0.76      0.78      0.62       142\n",
      "          D       0.59      0.33      0.95      0.43      0.56      0.30        57\n",
      "          E       0.36      0.22      0.95      0.27      0.46      0.19        41\n",
      "          F       0.00      0.00      1.00      0.00      0.00      0.00         6\n",
      "          G       0.00      0.00      1.00      0.00      0.00      0.00         3\n",
      "\n",
      "avg / total       0.54      0.57      0.83      0.54      0.64      0.44       339\n",
      "\n",
      "Ran function get_classifier_performance. Elapsed time: 0.10432267189025879\n"
     ]
    },
    {
     "name": "stderr",
     "output_type": "stream",
     "text": [
      "/Users/jfonseca/.conda/envs/env/lib/python3.7/site-packages/sklearn/metrics/classification.py:1437: UndefinedMetricWarning: Precision and F-score are ill-defined and being set to 0.0 in labels with no predicted samples.\n",
      "  'precision', 'predicted', average, warn_for)\n"
     ]
    }
   ],
   "source": [
    "get_classifier_performance(rfc, X_train, X_test, y_train, y_test)"
   ]
  },
  {
   "cell_type": "code",
   "execution_count": null,
   "metadata": {},
   "outputs": [],
   "source": []
  }
 ],
 "metadata": {
  "kernelspec": {
   "display_name": "Python 3",
   "language": "python",
   "name": "python3"
  },
  "language_info": {
   "codemirror_mode": {
    "name": "ipython",
    "version": 3
   },
   "file_extension": ".py",
   "mimetype": "text/x-python",
   "name": "python",
   "nbconvert_exporter": "python",
   "pygments_lexer": "ipython3",
   "version": "3.7.3"
  }
 },
 "nbformat": 4,
 "nbformat_minor": 2
}
