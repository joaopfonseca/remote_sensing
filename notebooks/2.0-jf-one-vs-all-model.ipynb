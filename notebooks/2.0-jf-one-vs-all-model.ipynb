{
 "cells": [
  {
   "cell_type": "markdown",
   "metadata": {},
   "source": [
    "### TODO:\n",
    "- Run Models with different parameters for all different dates in sepparate\n",
    "- Find way to make random variable transformations"
   ]
  },
  {
   "cell_type": "code",
   "execution_count": null,
   "metadata": {},
   "outputs": [],
   "source": [
    "import pandas as pd\n",
    "import pandas_profiling\n",
    "import numpy as np\n",
    "import seaborn as sns\n",
    "import matplotlib.pyplot as plt\n",
    "\n",
    "from sklearn.model_selection import train_test_split\n",
    "from sklearn.preprocessing import StandardScaler, Normalizer\n",
    "from sklearn.decomposition import PCA\n",
    "#from sklearn.neural_network import MLPClassifier\n",
    "from sklearn.tree import DecisionTreeClassifier\n",
    "from sklearn.neighbors import KNeighborsClassifier\n",
    "from sklearn.ensemble import RandomForestClassifier\n",
    "from sklearn.model_selection import StratifiedKFold\n",
    "from sklearn.multiclass import OneVsRestClassifier, OneVsOneClassifier\n",
    "from sklearn.linear_model import LogisticRegression\n",
    "from sklearn.svm import SVC\n",
    "\n",
    "from sklearnext.tools import report_model_search_results\n",
    "from sklearnext.over_sampling import SMOTE, GeometricSMOTE, RandomOverSampler\n",
    "from sklearnext.model_selection import ModelSearchCV\n",
    "\n",
    "from imblearn.pipeline import Pipeline\n",
    "\n",
    "import datetime as dt # used for convenience purposes\n",
    "\n",
    "%config InlineBackend.figure_format = 'retina'"
   ]
  },
  {
   "cell_type": "code",
   "execution_count": null,
   "metadata": {},
   "outputs": [],
   "source": [
    "df = pd.read_csv('../data/raw/tabexport2.csv', delimiter=';')\n",
    "\n",
    "new_columns = {}\n",
    "for col in df.columns[1:]:\n",
    "    new_columns[col] = (col.replace('LC08_L1TP_204032_2015', '')[:4]+'_'+col[-1:])[1:]\n",
    "df = df.rename(columns=new_columns)\n",
    "df.to_csv('../data/interim/data.csv', index=False)"
   ]
  },
  {
   "cell_type": "code",
   "execution_count": null,
   "metadata": {},
   "outputs": [],
   "source": [
    "df.groupby('class').size()"
   ]
  },
  {
   "cell_type": "markdown",
   "metadata": {},
   "source": [
    "![class labels](https://ec.europa.eu/eurostat/statistics-explained/images/9/99/LUCAS_-_classification_of_land_cover.png)"
   ]
  },
  {
   "cell_type": "code",
   "execution_count": null,
   "metadata": {},
   "outputs": [],
   "source": [
    "# Degree of Dimensionality\n",
    "DoD = lambda sample_size, features: sample_size/features\n",
    "ft = len(df.columns)-1 # -1 is used to disregard the column \"class\"\n",
    "df.groupby('class').size().apply(lambda sample_size: DoD(sample_size, ft))"
   ]
  },
  {
   "cell_type": "code",
   "execution_count": null,
   "metadata": {},
   "outputs": [],
   "source": [
    "# Imbalance Ratio\n",
    "IR = lambda majority_class, class_label: majority_class/class_label\n",
    "majority_class = df.groupby('class').size().max()\n",
    "df.groupby('class').size().apply(lambda class_size: IR(majority_class, class_size))"
   ]
  },
  {
   "cell_type": "code",
   "execution_count": null,
   "metadata": {},
   "outputs": [],
   "source": [
    "report = pandas_profiling.ProfileReport(df, correlation_threshold=0.9)\n",
    "report"
   ]
  },
  {
   "cell_type": "code",
   "execution_count": null,
   "metadata": {},
   "outputs": [],
   "source": [
    "def make_corr_table(df, method='spearman', fig_size=(15,15)):\n",
    "    corr = df.corr(method=method)\n",
    "    # remove the upper diagonal of the correlation matrix\n",
    "    mask = np.zeros_like(corr)\n",
    "    mask[np.triu_indices_from(mask)] = True\n",
    "\n",
    "    with sns.axes_style(\"white\"):\n",
    "        fig, ax = plt.subplots()\n",
    "        fig.set_size_inches(fig_size[0], fig_size[1])\n",
    "        sns.heatmap(corr, mask=mask, vmin=-1, vmax=1, square=True, ax=ax, cmap='RdBu_r')\n",
    "    \n",
    "    \n",
    "make_corr_table(df)"
   ]
  },
  {
   "cell_type": "markdown",
   "metadata": {},
   "source": [
    "## Preprocessing stage\n",
    "- Take highly correlated variable pairs (threshold ρ=0.9)\n",
    "- Standardize them\n",
    "- Run PCA on transformed variables\n",
    "- Keep as many features as necessary such that the minimum explained variability criteria is met\n",
    "\n",
    "**Note**: Which other features can we extract from this?"
   ]
  },
  {
   "cell_type": "code",
   "execution_count": null,
   "metadata": {},
   "outputs": [],
   "source": [
    "rejected_variables = report.get_rejected_variables()\n",
    "rejected_variables.remove('306_5')\n",
    "rejected_variables.remove('626_5')\n",
    "\n",
    "make_corr_table(df.drop(columns=rejected_variables))\n",
    "#make_corr_table(df.loc[:,rejected_variables])"
   ]
  },
  {
   "cell_type": "code",
   "execution_count": null,
   "metadata": {},
   "outputs": [],
   "source": [
    "obs_lost_percentage = df[df['class'].isin(['F', 'G', 'H'])].groupby('class').size().sum() / df.groupby('class').size().sum()\n",
    "\n",
    "df2 = df[~df['class'].isin(['F', 'G', 'H'])]\n",
    "print('Dropped {0:.2f}% of total observations.'.format(obs_lost_percentage*100))\n"
   ]
  },
  {
   "cell_type": "code",
   "execution_count": null,
   "metadata": {},
   "outputs": [],
   "source": [
    "X = df2.drop(columns='class')\n",
    "y = df2['class']\n",
    "\n",
    "X_train, X_test, y_train, y_test = train_test_split(X, y, test_size=0.1)\n",
    "\n",
    "# question: Is it a good idea to make additional PCA on other variables with high correlation?\n",
    "X_train_1 = X_train.drop(columns=rejected_variables)\n",
    "X_train_2 = X_train.loc[:,rejected_variables]\n",
    "\n",
    "X_test_1 = X_test.drop(columns=rejected_variables)\n",
    "X_test_2 = X_test.loc[:,rejected_variables]\n",
    "\n",
    "# standardize highly correlated data\n",
    "sc = StandardScaler()\n",
    "X_train_2[X_train_2.columns] = sc.fit_transform(X_train_2)  \n",
    "X_test_2[X_test_2.columns] = sc.transform(X_test_2)"
   ]
  },
  {
   "cell_type": "code",
   "execution_count": null,
   "metadata": {},
   "outputs": [],
   "source": [
    "min_var = 0.95\n",
    "\n",
    "old_cols = list(X_train_2.columns)\n",
    "\n",
    "# Run PCA on standardized data\n",
    "pca = PCA()\n",
    "train_2 = pca.fit_transform(X_train_2)\n",
    "test_2 = pca.transform(X_test_2)\n",
    "\n",
    "# % of explained variance for each additional feature\n",
    "np.cumsum(pca.explained_variance_ratio_)\n",
    "# Get column name for the principal components' tables\n",
    "pc_cols  = [f'pc_{i}' for i in range(np.where(np.cumsum(pca.explained_variance_ratio_) > min_var)[0][0])]\n",
    "# Number of features to keep to get {min_var}% of explained variability\n",
    "for i in range(np.where(np.cumsum(pca.explained_variance_ratio_) > min_var)[0][0]):\n",
    "    X_train_2[f'pc_{i}'] = train_2[:,i]\n",
    "    X_test_2[f'pc_{i}']  = test_2[:,i]\n",
    "\n",
    "# build final dataset\n",
    "X_train_final = X_train_1.join(X_train_2[pc_cols], on=None, how='outer')\n",
    "X_test_final  = X_test_1.join(X_test_2[pc_cols])\n",
    "make_corr_table(X_train_final)"
   ]
  },
  {
   "cell_type": "markdown",
   "metadata": {},
   "source": [
    "## Modelling"
   ]
  },
  {
   "cell_type": "code",
   "execution_count": null,
   "metadata": {},
   "outputs": [],
   "source": [
    "def model_search(X, y, approach='standard'):\n",
    "    \"\"\"\n",
    "    Function built for convenience purposes. oversamplers, classifiers etc etc must be edited in the function itself,\n",
    "    if necessary.\n",
    "    \"\"\"\n",
    "    global oversamplers, classifiers, pre_params, param_grids, estimators\n",
    "    \n",
    "    oversamplers = [\n",
    "        ('none', None),\n",
    "        ('RandomOverSampler', RandomOverSampler()),\n",
    "        ('smote', SMOTE()),\n",
    "        ('gsmote', GeometricSMOTE())\n",
    "    ]\n",
    "\n",
    "    classifiers = [\n",
    "        #('MLP', MLPClassifier(activation='logistic', \n",
    "        #                      solver='lbfgs')),\n",
    "        ('DT', DecisionTreeClassifier()),\n",
    "        ('KNN', KNeighborsClassifier()),\n",
    "        ('RF', RandomForestClassifier()),\n",
    "        ('LR', LogisticRegression(solver='lbfgs', penalty='l2')),\n",
    "        ('SVC', SVC())\n",
    "\n",
    "    ]\n",
    "\n",
    "\n",
    "    # missing parameters for DT, KNN and RF --> doing it later\n",
    "    pre_params = {\n",
    "        'smote': {'k_neighbors': [2, 3, 4, 5]},\n",
    "        'gsmote': {\n",
    "            'k_neighbors': [2, 3, 4, 5],\n",
    "            'deformation_factor': [0.25, 0.50, 0.75],\n",
    "            'truncation_factor': [-0.5, 0.0, 0.5]\n",
    "        },\n",
    "        #'MLP': {\n",
    "        #    'alpha': [0.0001, 0.001, 0.01, 0.1],\n",
    "        #    'hidden_layer_sizes': [(64,64), (150), (75), (150, 150)],\n",
    "        #    'activation': ['relu', 'tanh', 'logistic'],\n",
    "        #},\n",
    "        'DT':{'criterion':['gini', 'entropy']},\n",
    "        'KNN':{'n_neighbors':[3,4,5,6,7,8], 'criterion':['gini', 'entropy']},\n",
    "        'RF':{'n_estimators':[10,30,50,70,100]}\n",
    "        'SVC':{\n",
    "            'kernel':['poly', 'rbf'],\n",
    "            'degree':[1,2,3,4]\n",
    "        },\n",
    "    }\n",
    "\n",
    "    param_grids = []\n",
    "    estimators = []\n",
    "    \n",
    "    for oversampler in oversamplers:\n",
    "        for classifier in classifiers:\n",
    "\n",
    "            # sets up pipeline with name\n",
    "            name = f'{oversampler[0]}+{classifier[0]}'\n",
    "            if approach == 'standard':\n",
    "                estimators.append((name, Pipeline([oversampler, classifier])))\n",
    "            elif approach == 'onevsrest':\n",
    "                estimators.append((name, OneVsRestClassifier(Pipeline([oversampler, classifier]))))\n",
    "            elif approach == 'onevsone':\n",
    "                estimators.append((name, OneVsOneClassifier(Pipeline([oversampler, classifier]))))\n",
    "                \n",
    "\n",
    "            # sets up param grid for the estimator\n",
    "            param_grid = {}\n",
    "            if oversampler[0] in pre_params.keys(): \n",
    "                for key, value in pre_params[oversampler[0]].items():\n",
    "                    if approach == 'standard':\n",
    "                        param_grid[f'{name}__{oversampler[0]}__{key}'] = value\n",
    "                    elif approach in ['onevsrest', 'onevsone']:\n",
    "                        param_grid[f'{name}__estimator__{oversampler[0]}__{key}'] = value\n",
    "\n",
    "            if classifier[0]  in pre_params.keys(): \n",
    "                for key, value in pre_params[classifier[0]].items():\n",
    "                    if approach == 'standard':\n",
    "                        param_grid[f'{name}__{classifier[0]}__{key}'] = value\n",
    "                    elif approach in ['onevsrest', 'onevsone']:\n",
    "                        param_grid[f'{name}__estimator__{classifier[0]}__{key}'] = value\n",
    "            if len(param_grid)>0:\n",
    "                param_grids.append(param_grid)\n",
    "\n",
    "\n",
    "    model_search_cv = ModelSearchCV(\n",
    "        estimators=estimators, \n",
    "        param_grids=param_grids, \n",
    "        scoring=['f1_weighted', 'geometric_mean_score', 'accuracy'], \n",
    "        cv=StratifiedKFold(n_splits=5, shuffle=True),\n",
    "        refit=False, \n",
    "        n_jobs=-1\n",
    "    )\n",
    "\n",
    "    model_search_cv.fit(X, y)\n",
    "\n",
    "    return model_search_cv"
   ]
  },
  {
   "cell_type": "markdown",
   "metadata": {},
   "source": [
    "### Standard Approach"
   ]
  },
  {
   "cell_type": "code",
   "execution_count": null,
   "metadata": {},
   "outputs": [],
   "source": [
    "print('[%s]' % dt.datetime.now().strftime('%Y-%m-%d %H:%M:%S'))\n",
    "model_search_cv = model_search(X_train_final, y_train, approach='standard')\n",
    "report_model_search_results(model_search_cv).sort_values('mean_test_f1_weighted', ascending=False)"
   ]
  },
  {
   "cell_type": "markdown",
   "metadata": {},
   "source": [
    "### One-vs-rest approach"
   ]
  },
  {
   "cell_type": "code",
   "execution_count": null,
   "metadata": {},
   "outputs": [],
   "source": [
    "print('[%s]' % dt.datetime.now().strftime('%Y-%m-%d %H:%M:%S'))\n",
    "model_search_cv_OVR = model_search(X_train_final, y_train, approach='onevsrest')\n",
    "report_model_search_results(model_search_cv_OVR).sort_values('mean_test_f1_weighted', ascending=False)"
   ]
  },
  {
   "cell_type": "markdown",
   "metadata": {},
   "source": [
    "### One-vs-One approach"
   ]
  },
  {
   "cell_type": "code",
   "execution_count": null,
   "metadata": {},
   "outputs": [],
   "source": [
    "print('[%s]' % dt.datetime.now().strftime('%Y-%m-%d %H:%M:%S'))\n",
    "model_search_cv_OVO = model_search(X_train_final, y_train, approach='onevsone')\n",
    "report_model_search_results(model_search_cv_OVO).sort_values('mean_test_f1_weighted', ascending=False)"
   ]
  },
  {
   "cell_type": "markdown",
   "metadata": {},
   "source": [
    "## Modelling part 2\n",
    "### Applying Normalization"
   ]
  },
  {
   "cell_type": "code",
   "execution_count": null,
   "metadata": {
    "scrolled": true
   },
   "outputs": [],
   "source": [
    "norms = {'ss':StandardScaler(), 'l1':Normalizer(norm='l1'), 'l2':Normalizer(norm='l2')}\n",
    "scores = {}\n",
    "\n",
    "for norm_name, norm_func in norms.items():\n",
    "    print(f'Testing with {norm_name} normalization.')\n",
    "    norm_X_train_final = norm_func.fit_transform(X_train_final)\n",
    "    \n",
    "    print('[%s] Model searching using standard approach' % dt.datetime.now().strftime('%Y-%m-%d %H:%M:%S'))\n",
    "    norm_model_search_cv = model_search(norm_X_train_final, y_train, approach='standard')\n",
    "    scores[f'{norm_name}+standard'] = report_model_search_results(norm_model_search_cv).sort_values('mean_test_f1_weighted', ascending=False)\n",
    "    print('[%s] Model searching using one vs rest approach' % dt.datetime.now().strftime('%Y-%m-%d %H:%M:%S'))\n",
    "    norm_model_search_cv = model_search(norm_X_train_final, y_train, approach='onevsrest')\n",
    "    scores[f'{norm_name}+onevsrest'] = report_model_search_results(norm_model_search_cv).sort_values('mean_test_f1_weighted', ascending=False)\n",
    "    print('[%s] Model searching using one vs one approach' % dt.datetime.now().strftime('%Y-%m-%d %H:%M:%S'))\n",
    "    norm_model_search_cv = model_search(norm_X_train_final, y_train, approach='onevsone')\n",
    "    scores[f'{norm_name}+onevsone'] = report_model_search_results(norm_model_search_cv).sort_values('mean_test_f1_weighted', ascending=False)\n",
    "    "
   ]
  },
  {
   "cell_type": "code",
   "execution_count": null,
   "metadata": {},
   "outputs": [],
   "source": [
    "for key, df in scores.items():\n",
    "    print(f'{key}:\\t %s' % df['mean_test_f1_weighted'].max())"
   ]
  }
 ],
 "metadata": {
  "kernelspec": {
   "display_name": "Python 3",
   "language": "python",
   "name": "python3"
  },
  "language_info": {
   "codemirror_mode": {
    "name": "ipython",
    "version": 3
   },
   "file_extension": ".py",
   "mimetype": "text/x-python",
   "name": "python",
   "nbconvert_exporter": "python",
   "pygments_lexer": "ipython3",
   "version": "3.7.3"
  }
 },
 "nbformat": 4,
 "nbformat_minor": 2
}
