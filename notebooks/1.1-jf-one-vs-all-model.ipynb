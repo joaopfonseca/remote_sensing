{
 "cells": [
  {
   "cell_type": "markdown",
   "metadata": {},
   "source": [
    "# LUCAS Dataset imbalanced class prediction problem\n",
    "## TODO:\n",
    "- Run Models with different parameters for all different dates in sepparate\n",
    "- Find way to make random variable transformations\n",
    "- Test using float features"
   ]
  },
  {
   "cell_type": "code",
   "execution_count": null,
   "metadata": {},
   "outputs": [],
   "source": [
    "import pandas as pd\n",
    "import pandas_profiling\n",
    "import numpy as np\n",
    "import seaborn as sns\n",
    "import matplotlib.pyplot as plt\n",
    "\n",
    "from sklearn.model_selection import train_test_split\n",
    "from sklearn.preprocessing import StandardScaler, Normalizer, MinMaxScaler\n",
    "from sklearn.decomposition import PCA\n",
    "#from sklearn.neural_network import MLPClassifier\n",
    "from sklearn.tree import DecisionTreeClassifier\n",
    "from sklearn.neighbors import KNeighborsClassifier\n",
    "from sklearn.ensemble import GradientBoostingClassifier#, RandomForestClassifier\n",
    "from sklearn.model_selection import StratifiedKFold\n",
    "from sklearn.multiclass import OneVsRestClassifier, OneVsOneClassifier\n",
    "from sklearn.linear_model import LogisticRegression\n",
    "from sklearn.svm import LinearSVC#, SVC\n",
    "from sklearn.feature_selection import RFE, RFECV#, SelectFromModel, SelectKBest, chi2\n",
    "\n",
    "from sklearnext.tools import report_model_search_results\n",
    "from sklearnext.over_sampling import SMOTE, GeometricSMOTE, RandomOverSampler, DensityDistributor\n",
    "from sklearnext.model_selection import ModelSearchCV\n",
    "from sklearnext.cluster import KMeans, SOM, AgglomerativeClustering, Birch, SpectralClustering\n",
    "\n",
    "from imblearn.pipeline import Pipeline\n",
    "\n",
    "import datetime as dt # used for convenience purposes\n",
    "\n",
    "%config InlineBackend.figure_format = 'retina'\n",
    "\n",
    "\n",
    "\n",
    "\n",
    "\n",
    "\n",
    "correlation_threshold = 0.9"
   ]
  },
  {
   "cell_type": "code",
   "execution_count": null,
   "metadata": {},
   "outputs": [],
   "source": [
    "df = pd.read_csv('../data/raw/tabexport2.csv', delimiter=';')\n",
    "\n",
    "new_columns = {}\n",
    "for col in df.columns[1:]:\n",
    "    new_columns[col] = (col.replace('LC08_L1TP_204032_2015', '')[:4]+'_band'+col[-1:])#[1:]\n",
    "df = df.rename(columns=new_columns)\n",
    "df.to_csv('../data/interim/data.csv', index=False)"
   ]
  },
  {
   "cell_type": "code",
   "execution_count": null,
   "metadata": {},
   "outputs": [],
   "source": [
    "df.groupby('class').size()"
   ]
  },
  {
   "cell_type": "markdown",
   "metadata": {},
   "source": [
    "![class labels](https://ec.europa.eu/eurostat/statistics-explained/images/9/99/LUCAS_-_classification_of_land_cover.png)"
   ]
  },
  {
   "cell_type": "code",
   "execution_count": null,
   "metadata": {},
   "outputs": [],
   "source": [
    "# Degree of Dimensionality\n",
    "DoD = lambda sample_size, features: sample_size/features\n",
    "ft = len(df.columns)-1 # -1 is used to disregard the column \"class\"\n",
    "df.groupby('class').size().apply(lambda sample_size: DoD(sample_size, ft))"
   ]
  },
  {
   "cell_type": "code",
   "execution_count": null,
   "metadata": {},
   "outputs": [],
   "source": [
    "# Imbalance Ratio\n",
    "IR = lambda majority_class, class_label: majority_class/class_label\n",
    "majority_class = df.groupby('class').size().max()\n",
    "df.groupby('class').size().apply(lambda class_size: IR(majority_class, class_size))"
   ]
  },
  {
   "cell_type": "code",
   "execution_count": null,
   "metadata": {},
   "outputs": [],
   "source": [
    "report = pandas_profiling.ProfileReport(df, correlation_threshold=correlation_threshold)\n",
    "report"
   ]
  },
  {
   "cell_type": "code",
   "execution_count": null,
   "metadata": {},
   "outputs": [],
   "source": [
    "def make_corr_table(df, method='spearman', fig_size=(15,15)):\n",
    "    corr = df.corr(method=method)\n",
    "    # remove the upper diagonal of the correlation matrix\n",
    "    mask = np.zeros_like(corr)\n",
    "    mask[np.triu_indices_from(mask)] = True\n",
    "\n",
    "    with sns.axes_style(\"white\"):\n",
    "        fig, ax = plt.subplots()\n",
    "        fig.set_size_inches(fig_size[0], fig_size[1])\n",
    "        sns.heatmap(corr, mask=mask, vmin=-1, vmax=1, square=True, ax=ax, cmap='RdBu_r')\n",
    "    \n",
    "    \n",
    "make_corr_table(df)"
   ]
  },
  {
   "cell_type": "markdown",
   "metadata": {},
   "source": [
    "## Preprocessing stage\n",
    "- Take highly correlated variable pairs (threshold ρ=0.9)\n",
    "- Standardize them\n",
    "- Run PCA on transformed variables\n",
    "- Keep as many features as necessary such that the minimum explained variability criteria is met\n",
    "\n",
    "**Note**: Which other features can we extract from this?"
   ]
  },
  {
   "cell_type": "markdown",
   "metadata": {},
   "source": [
    "Selecting only one of the days and attempt to transform the variables with relatively random calculations"
   ]
  },
  {
   "cell_type": "code",
   "execution_count": null,
   "metadata": {},
   "outputs": [],
   "source": [
    "# Dropping extremely rare classes\n",
    "#obs_lost_percentage = df[df['class'].isin(['F', 'G', 'H'])].groupby('class').size().sum() / df.groupby('class').size().sum()\n",
    "#df2 = df[~df['class'].isin(['F', 'G', 'H'])]\n",
    "#print('Dropped {0:.2f}% of total observations.'.format(obs_lost_percentage*100))\n",
    "\n",
    "# Selecting a specific day\n",
    "day_vars = []\n",
    "for col in df.columns:\n",
    "    if col.startswith('218'):\n",
    "        day_vars.append(col)\n",
    "\n",
    "df2 = df[['class']+day_vars]\n",
    "\n",
    "X = df2.drop(columns='class')\n",
    "y = df2['class']\n",
    "\n",
    "# creating new variables\n",
    "# (required for logs) min-max standardization\n",
    "scaler = MinMaxScaler(feature_range=(0.1, 10), copy=True)\n",
    "X = pd.DataFrame(scaler.fit_transform(X), columns=X.columns)\n",
    "\n",
    "# logs\n",
    "logs = X.apply(np.log) # logarithm of base e\n",
    "logs.columns = ['(log_'+i+')' for i in X.columns]\n",
    "# e^x\n",
    "exps = X.apply(np.exp) # e^x\n",
    "exps.columns = ['(exp_'+i+')' for i in X.columns]\n",
    "# squared variables\n",
    "sqrd = X.apply(lambda i: i**2)\n",
    "sqrd.columns = ['('+i+'**2)' for i in X.columns]\n",
    "\n",
    "X2 = pd.concat([X, logs, exps, sqrd], axis=1)\n",
    "cols = list(X2.columns)\n",
    "\n",
    "# sums, multiplications\n",
    "for i1 in cols:\n",
    "    for i2 in cols:\n",
    "        # sums\n",
    "        X2[f'({i1}+{i2})'] = X2[i1] + X2[i2]\n",
    "        # multiplications\n",
    "        X2[f'({i1}*{i2})'] = X2[i1] * X2[i2]\n",
    "        # divisions\n",
    "        X2[f'({i1}/{i2})'] = X2[i1] / X2[i2]\n",
    "\n",
    "X2 = X2.loc[:, (X2!=1).all()].replace([np.inf, -np.inf], np.nan).dropna(axis=1) # 1694 rows × 1670 columns\n",
    "\n",
    "# Should reject highly correlated variables here\n",
    "df_corr = X2.corr() #> correlation_threshold\n",
    "df_corr = pd.DataFrame(np.tril(df_corr), columns=df_corr.columns, index=df_corr.index)\n",
    "np.fill_diagonal(df_corr.values, 0)\n",
    "\n",
    "id_0, id_1 = np.where(df_corr>correlation_threshold)\n",
    "rejected_vars = np.array(df_corr.index)[np.unique(id_0)]\n",
    "\n",
    "X3 = X2.drop(columns=rejected_vars)\n",
    "\n",
    "\"\"\" One method, although I don't know exactly what's happening here \"\"\"\n",
    "#lsvc = LinearSVC(C=0.01, penalty=\"l1\", dual=False).fit(X2, y)\n",
    "#model = SelectFromModel(lsvc, prefit=True)\n",
    "#X_new = model.transform(X2)\n",
    "#X_new.shape\n",
    "\n",
    "\n",
    "\"\"\" Univariate testing: perform a chi-square test to the samples to retrieve only the two best features \"\"\"\n",
    "#scaler = MinMaxScaler(feature_range=(0, 1), copy=True)\n",
    "#_X2 = pd.DataFrame(scaler.fit_transform(X2), columns=X2.columns)\n",
    "\n",
    "#kbest = SelectKBest(chi2, k=48)\n",
    "#kbest.fit_transform(_X2, y)\n",
    "#selected_columns = np.array(X2.columns)[kbest.get_support()]\n",
    "\n",
    "#X_final = X2[selected_columns]\n",
    "\n",
    "\"\"\" Recursive Feature Extraction \"\"\"\n",
    "# CV version\n",
    "lr = LogisticRegression(max_iter=20000, solver='lbfgs', multi_class='auto')\n",
    "# step may need to be better adjusted, check later\n",
    "selector = RFECV(lr, step=0.1, min_features_to_select=6, cv=5, verbose=1)\n",
    "selector = selector.fit(X3, y)\n",
    "\n",
    "final_cols    = np.array(X3.columns)[selector.ranking_==1]\n",
    "rejected_cols = np.concatenate([np.array(X3.columns)[selector.ranking_!=1], rejected_vars])\n",
    "\n",
    "X_final    = X2[final_cols]\n",
    "X_rejected = X2[rejected_cols]\n",
    "\n",
    "make_corr_table(X_final)"
   ]
  },
  {
   "cell_type": "code",
   "execution_count": null,
   "metadata": {},
   "outputs": [],
   "source": [
    "X_train, X_test, y_train, y_test = train_test_split(X2, y, test_size=0.1)\n",
    "\n",
    "# question: Is it a good idea to make additional PCA on other variables with high correlation?\n",
    "X_train_final    = X_train[final_cols]\n",
    "X_train_rejected = X_train.loc[:,rejected_cols]\n",
    "\n",
    "X_test_final    = X_test[final_cols]\n",
    "X_test_rejected = X_test.loc[:,rejected_cols]\n",
    "\n",
    "# standardize highly correlated data\n",
    "sc = StandardScaler()\n",
    "X_train_rejected[X_train_rejected.columns] = sc.fit_transform(X_train_rejected)\n",
    "X_test_rejected[X_test_rejected.columns] = sc.transform(X_test_rejected)"
   ]
  },
  {
   "cell_type": "code",
   "execution_count": null,
   "metadata": {},
   "outputs": [],
   "source": [
    "# Running PCA\n",
    "\n",
    "min_var = 0.95\n",
    "\n",
    "old_cols = list(X_train_rejected.columns)\n",
    "\n",
    "# Run PCA on standardized data\n",
    "pca = PCA()\n",
    "train_rejected = pca.fit_transform(X_train_rejected)\n",
    "test_rejected = pca.transform(X_test_rejected)\n",
    "\n",
    "# % of explained variance for each additional feature\n",
    "np.cumsum(pca.explained_variance_ratio_)\n",
    "# Get column name for the principal components' tables\n",
    "pc_cols  = [f'pc_{i}' for i in range(np.where(np.cumsum(pca.explained_variance_ratio_) > min_var)[0][0])]\n",
    "# Number of features to keep to get {min_var}% of explained variability\n",
    "for i in range(np.where(np.cumsum(pca.explained_variance_ratio_) > min_var)[0][0]):\n",
    "    X_train_rejected[f'pc_{i}'] = train_rejected[:,i]\n",
    "    X_test_rejected[f'pc_{i}']  = test_rejected[:,i]\n",
    "\n",
    "# build final dataset\n",
    "X_train_final = X_train_final.join(X_train_rejected[pc_cols], on=None, how='outer')\n",
    "X_test_final  = X_test_final.join(X_test_rejected[pc_cols])\n",
    "make_corr_table(X_train_final)"
   ]
  },
  {
   "cell_type": "markdown",
   "metadata": {},
   "source": [
    "## Modelling (original model search function)"
   ]
  },
  {
   "cell_type": "code",
   "execution_count": null,
   "metadata": {},
   "outputs": [],
   "source": [
    "def model_search(X, y, approach='standard'):\n",
    "    \"\"\"\n",
    "    Function built for convenience purposes. oversamplers, classifiers etc etc must be edited in the function itself,\n",
    "    if necessary.\n",
    "    \"\"\"\n",
    "    global oversamplers, classifiers, grid, param_grids, estimators\n",
    "    \n",
    "    configs = {\n",
    "        'scoring': ['f1_weighted', 'geometric_mean_score', 'accuracy'],\n",
    "        'n_splits': 5,\n",
    "        'n_runs': 3,\n",
    "        'random_state': 0,\n",
    "        'n_jobs': -1,\n",
    "        'verbose':1\n",
    "    }\n",
    "    # original scoring: ['f1_weighted', 'geometric_mean_score', 'accuracy']\n",
    "    \n",
    "    oversamplers = [\n",
    "        ('none', None),\n",
    "        ('RandomOverSampler', RandomOverSampler()),\n",
    "        ('smote', SMOTE()),\n",
    "        ('gsmote', GeometricSMOTE())\n",
    "    ]\n",
    "\n",
    "    classifiers = [\n",
    "        ('GBC', GradientBoostingClassifier()),\n",
    "        ('DT', DecisionTreeClassifier()),\n",
    "        ('KNN', KNeighborsClassifier()),\n",
    "        ('LR', LogisticRegression(solver='lbfgs', penalty='l2', max_iter=1e4)),\n",
    "        #('RF', RandomForestClassifier()) # not on the G-SMOTE paper\n",
    "    ]\n",
    "\n",
    "\n",
    "    grid = {\n",
    "        'smote': {'k_neighbors': [2, 3, 4, 5]},\n",
    "        'gsmote': {\n",
    "            'k_neighbors': [2, 3, 4, 5],\n",
    "            'truncation_factor': [-1.0, -0.5, .0, 0.25, 0.5, 0.75, 1.0], \n",
    "            'deformation_factor': [.0, 0.2, 0.4, 0.5, 0.6, 0.8, 1.0],\n",
    "            'selection_strategy': ['combined', 'minority', 'majority']\n",
    "        },\n",
    "        'DT':{'max_depth': [3, 6]},\n",
    "        'KNN':{'n_neighbors':[3,4,5,6,7]},\n",
    "        'GBC':{\n",
    "            'max_depth': [3, 6], \n",
    "            'n_estimators': [50, 100]\n",
    "        }\n",
    "    }\n",
    "\n",
    "    param_grids = []\n",
    "    estimators = []\n",
    "    \n",
    "    for oversampler in oversamplers:\n",
    "        for classifier in classifiers:\n",
    "\n",
    "            # sets up pipeline with name\n",
    "            name = f'{oversampler[0]}+{classifier[0]}'\n",
    "            if approach == 'standard':\n",
    "                estimators.append((name, Pipeline([oversampler, classifier])))\n",
    "            elif approach == 'onevsrest':\n",
    "                estimators.append((name, OneVsRestClassifier(Pipeline([oversampler, classifier]))))\n",
    "            elif approach == 'onevsone':\n",
    "                estimators.append((name, OneVsOneClassifier(Pipeline([oversampler, classifier]))))\n",
    "                \n",
    "\n",
    "            # sets up param grid for the estimator\n",
    "            param_grid = {}\n",
    "            if oversampler[0] in grid.keys(): \n",
    "                for key, value in grid[oversampler[0]].items():\n",
    "                    if approach == 'standard':\n",
    "                        param_grid[f'{name}__{oversampler[0]}__{key}'] = value\n",
    "                    elif approach in ['onevsrest', 'onevsone']:\n",
    "                        param_grid[f'{name}__estimator__{oversampler[0]}__{key}'] = value\n",
    "\n",
    "            if classifier[0]  in grid.keys(): \n",
    "                for key, value in grid[classifier[0]].items():\n",
    "                    if approach == 'standard':\n",
    "                        param_grid[f'{name}__{classifier[0]}__{key}'] = value\n",
    "                    elif approach in ['onevsrest', 'onevsone']:\n",
    "                        param_grid[f'{name}__estimator__{classifier[0]}__{key}'] = value\n",
    "            if len(param_grid)>0:\n",
    "                param_grids.append(param_grid)\n",
    "\n",
    "\n",
    "    model_search_cv = ModelSearchCV(\n",
    "        estimators=estimators, \n",
    "        param_grids=param_grids, \n",
    "        scoring=configs['scoring'], \n",
    "        cv=StratifiedKFold(n_splits=configs['n_splits'], shuffle=True),\n",
    "        refit=False, \n",
    "        n_jobs=configs['n_jobs'],\n",
    "        verbose=configs['verbose']\n",
    "    )\n",
    "\n",
    "    model_search_cv.fit(X, y)\n",
    "\n",
    "    return model_search_cv"
   ]
  },
  {
   "cell_type": "markdown",
   "metadata": {},
   "source": [
    "### Standard Approach"
   ]
  },
  {
   "cell_type": "code",
   "execution_count": null,
   "metadata": {},
   "outputs": [],
   "source": [
    "print('[%s]' % dt.datetime.now().strftime('%Y-%m-%d %H:%M:%S'))\n",
    "model_search_cv = model_search(X_train_final, y_train, approach='standard')\n",
    "report_model_search_results(model_search_cv).sort_values('mean_test_f1_weighted', ascending=False)"
   ]
  },
  {
   "cell_type": "markdown",
   "metadata": {},
   "source": [
    "### One-vs-rest approach"
   ]
  },
  {
   "cell_type": "code",
   "execution_count": null,
   "metadata": {},
   "outputs": [],
   "source": [
    "print('[%s]' % dt.datetime.now().strftime('%Y-%m-%d %H:%M:%S'))\n",
    "model_search_cv_OVR = model_search(X_train_final, y_train, approach='onevsrest')\n",
    "report_model_search_results(model_search_cv_OVR).sort_values('mean_test_f1_weighted', ascending=False)"
   ]
  },
  {
   "cell_type": "markdown",
   "metadata": {},
   "source": [
    "### One-vs-One approach"
   ]
  },
  {
   "cell_type": "code",
   "execution_count": null,
   "metadata": {},
   "outputs": [],
   "source": [
    "print('[%s]' % dt.datetime.now().strftime('%Y-%m-%d %H:%M:%S'))\n",
    "model_search_cv_OVO = model_search(X_train_final, y_train, approach='onevsone')\n",
    "report_model_search_results(model_search_cv_OVO).sort_values('mean_test_f1_weighted', ascending=False)"
   ]
  },
  {
   "cell_type": "markdown",
   "metadata": {},
   "source": [
    "## Modelling part 2\n",
    "### Applying Normalization"
   ]
  },
  {
   "cell_type": "code",
   "execution_count": null,
   "metadata": {},
   "outputs": [],
   "source": [
    "norms = {'ss':StandardScaler(), 'l1':Normalizer(norm='l1'), 'l2':Normalizer(norm='l2')}\n",
    "scores = {}\n",
    "\n",
    "for norm_name, norm_func in norms.items():\n",
    "    print(f'Testing with {norm_name} normalization.')\n",
    "    norm_X_train_final = norm_func.fit_transform(X_train_final)\n",
    "    \n",
    "    print('[%s] Model searching using standard approach' % dt.datetime.now().strftime('%Y-%m-%d %H:%M:%S'))\n",
    "    norm_model_search_cv = model_search(norm_X_train_final, y_train, approach='standard')\n",
    "    scores[f'{norm_name}+standard'] = report_model_search_results(norm_model_search_cv).sort_values('mean_test_f1_weighted', ascending=False)\n",
    "    print('[%s] Model searching using one vs rest approach' % dt.datetime.now().strftime('%Y-%m-%d %H:%M:%S'))\n",
    "    norm_model_search_cv = model_search(norm_X_train_final, y_train, approach='onevsrest')\n",
    "    scores[f'{norm_name}+onevsrest'] = report_model_search_results(norm_model_search_cv).sort_values('mean_test_f1_weighted', ascending=False)\n",
    "    print('[%s] Model searching using one vs one approach' % dt.datetime.now().strftime('%Y-%m-%d %H:%M:%S'))\n",
    "    norm_model_search_cv = model_search(norm_X_train_final, y_train, approach='onevsone')\n",
    "    scores[f'{norm_name}+onevsone'] = report_model_search_results(norm_model_search_cv).sort_values('mean_test_f1_weighted', ascending=False)\n",
    "    "
   ]
  },
  {
   "cell_type": "code",
   "execution_count": null,
   "metadata": {},
   "outputs": [],
   "source": [
    "for key, df in scores.items():\n",
    "    print(f'{key}:\\t %s' % df['mean_test_f1_weighted'].max())\n"
   ]
  },
  {
   "cell_type": "markdown",
   "metadata": {},
   "source": [
    "## Creating proper configurations for running the experiments\n",
    "\n",
    "It's been observed from the previous experiments that using a mix of **Standard Scaling** and **One-vs-One**/**One-vs-Rest** provide optimal results, which should make it possible to run models as binary experiments **(?)**"
   ]
  },
  {
   "cell_type": "markdown",
   "metadata": {},
   "source": [
    "### Adapting configurations\n",
    "https://github.com/IMS-ML-Lab/publications/blob/master/scripts/config.py"
   ]
  },
  {
   "cell_type": "code",
   "execution_count": null,
   "metadata": {},
   "outputs": [],
   "source": [
    "ORIGINAL_CONFIGURATIONS = {\n",
    "    'oversamplers': [\n",
    "        ('NO OVERSAMPLING', None),\n",
    "        ('RANDOM OVERSAMPLING', RandomOverSampler()),\n",
    "        ('SMOTE', SMOTE(), {'k_neighbors': [3, 5]}),\n",
    "        ('G-SMOTE', GeometricSMOTE(), {'selection_strategy': ['combined', 'minority', 'majority'], 'k_neighbors': [3, 5], 'truncation_factor': [-1.0, -0.5, .0, 0.25, 0.5, 0.75, 1.0], 'deformation_factor': [.0, 0.2, 0.4, 0.5, 0.6, 0.8, 1.0]})\n",
    "    ],\n",
    "    'classifiers': [\n",
    "        ('LR', LogisticRegression(solver='lbfgs', max_iter=1e4)),\n",
    "        ('KNN', KNeighborsClassifier(), {'n_neighbors': [3, 5]}),\n",
    "        ('DT', DecisionTreeClassifier(), {'max_depth': [3, 6]}),\n",
    "        ('GBC', GradientBoostingClassifier(), {'max_depth': [3, 6], 'n_estimators': [50, 100]})\n",
    "    ],\n",
    "    #'scoring': ['roc_auc', 'f1', 'geometric_mean_score'],\n",
    "    'scoring': ['f1_weighted', 'geometric_mean_score', 'accuracy'],\n",
    "    'n_splits': 5,\n",
    "    'n_runs': 3,\n",
    "    'random_state': 0\n",
    "}\n",
    "\n",
    "NEW_CONFIGURATIONS = {\n",
    "    'oversamplers': [\n",
    "        ('NO OVERSAMPLING', None),\n",
    "        ('RANDOM OVERSAMPLING', RandomOverSampler()),\n",
    "        ('SMOTE', SMOTE(), {'k_neighbors': [3, 5]}),\n",
    "        ('G-SMOTE', GeometricSMOTE(), {'selection_strategy': ['combined', 'minority', 'majority'], 'k_neighbors': [3, 5], 'truncation_factor': [-1.0, -0.5, .0, 0.25, 0.5, 0.75, 1.0], 'deformation_factor': [.0, 0.2, 0.4, 0.5, 0.6, 0.8, 1.0]})\n",
    "    ],\n",
    "    'classifiers': [\n",
    "        ('LR', OneVsOneClassifier(LogisticRegression(solver='lbfgs', max_iter=1e4))),\n",
    "        ('KNN', OneVsOneClassifier(KNeighborsClassifier()), {'n_neighbors': [3, 5]}),\n",
    "        ('DT', OneVsOneClassifier(DecisionTreeClassifier()), {'max_depth': [3, 6]}),\n",
    "        ('GBC', OneVsOneClassifier(GradientBoostingClassifier()), {'max_depth': [3, 6], 'n_estimators': [50, 100]})\n",
    "    ],\n",
    "    'scoring': ['roc_auc', 'f1', 'geometric_mean_score'],\n",
    "    'n_splits': 5,\n",
    "    'n_runs': 3,\n",
    "    'random_state': 0\n",
    "}\n",
    "\n",
    "\n",
    "from sklearnext.tools import BinaryExperiment\n",
    "\n",
    "stdscaler = StandardScaler()\n",
    "norm_X_train_final = stdscaler.fit_transform(X_train_final)\n",
    "\n",
    "datasets = [\n",
    "    ('day_', (norm_X_train_final, y_train)),\n",
    "    \n",
    "]\n",
    "\n",
    "n_jobs=-1\n",
    "verbose=1\n",
    "name='ovo experiment'\n",
    "\n",
    "experiment = BinaryExperiment(name, datasets, NEW_CONFIGURATIONS['oversamplers'], NEW_CONFIGURATIONS['classifiers'], NEW_CONFIGURATIONS['scoring'], NEW_CONFIGURATIONS['n_splits'], NEW_CONFIGURATIONS['n_runs'], NEW_CONFIGURATIONS['random_state'])\n",
    "experiment.run(n_jobs=n_jobs, verbose=verbose)\n",
    "experiment.summarize_datasets()\n",
    "experiment.calculate_optimal()\n",
    "experiment.calculate_wide_optimal()\n",
    "experiment.calculate_ranking()\n",
    "experiment.calculate_mean_sem_ranking()\n",
    "experiment.calculate_mean_sem_scores()\n",
    "experiment.calculate_mean_sem_perc_diff_scores()\n",
    "experiment.calculate_friedman_test()\n",
    "experiment.calculate_holms_test()\n",
    "experiment.dump(experiment_path)\n",
    "\n"
   ]
  },
  {
   "cell_type": "code",
   "execution_count": null,
   "metadata": {},
   "outputs": [],
   "source": [
    "def model_search(X, y, configs, approach='standard'):\n",
    "    \"\"\"\n",
    "    Function built for convenience purposes. oversamplers, classifiers etc etc must be edited in the function itself,\n",
    "    if necessary.\n",
    "    \"\"\"\n",
    "    global oversamplers, classifiers, grid, param_grids, estimators\n",
    "\n",
    "\n",
    "    model_search_cv = ModelSearchCV(\n",
    "        estimators=estimators, \n",
    "        param_grids=param_grids, \n",
    "        scoring=['f1_weighted', 'geometric_mean_score', 'accuracy'], \n",
    "        cv=StratifiedKFold(n_splits=5, shuffle=True),\n",
    "        refit=False, \n",
    "        n_jobs=-1,\n",
    "        verbose=1\n",
    "    )\n",
    "\n",
    "    model_search_cv.fit(X, y)\n",
    "\n",
    "    return model_search_cv"
   ]
  },
  {
   "cell_type": "code",
   "execution_count": null,
   "metadata": {},
   "outputs": [],
   "source": [
    "CONFIGURATIONS['GSMOTE'].keys()\n",
    "\n",
    "\n",
    "# model name -> ['oversamplers', 'classifiers', 'scoring', 'n_splits', 'n_runs', 'random_state']"
   ]
  },
  {
   "cell_type": "code",
   "execution_count": null,
   "metadata": {},
   "outputs": [],
   "source": []
  },
  {
   "cell_type": "markdown",
   "metadata": {},
   "source": [
    "# TEMPORARY AREA"
   ]
  },
  {
   "cell_type": "code",
   "execution_count": null,
   "metadata": {},
   "outputs": [],
   "source": [
    "import sqlite3\n",
    "\n",
    "df = pd.read_csv('../data/interim/data.csv', delimiter=',')\n",
    "cols = list(df.columns)\n",
    "cols.remove('class')\n",
    "cols = cols + ['class']\n",
    "cols\n",
    "\n",
    "conn = sqlite3.connect('../data/raw/remote_sensing_data.db')\n",
    "#query = \"SELECT country FROM Population WHERE population > 50000000;\"\n",
    "\n",
    "lucas = pd.read_sql_query('SELECT * FROM lucas', conn)\n",
    "lucas.columns = cols\n",
    "\n",
    "# Create sqlite database and cursor\n",
    "conn = sqlite3.connect('../data/interim/remote_sensing_data.db')\n",
    "c = conn.cursor()\n",
    "\n",
    "\n",
    "dfs = {}\n",
    "days = set([col.split('_band')[0] for col in cols])\n",
    "bands = [f'band{i}' for i in range(2,8)] + ['class']\n",
    "days.remove('class')\n",
    "\n",
    "for day in days:\n",
    "    day_cols = []\n",
    "    for col in cols:\n",
    "        if day in col:\n",
    "            day_cols.append(col)\n",
    "    dfs[day] = lucas[day_cols+['class']]\n",
    "    dfs[day]['day'] = day\n",
    "    dfs[day] = dfs[day][[list(dfs[day].columns)[-1]] + list(dfs[day].columns)[:-1]]\n",
    "    dfs[day] = dfs[day].reset_index().rename(columns={'index':'pixel_id'})\n",
    "    dfs[day].columns = ['pixel_id','day']+bands\n",
    "\n",
    "ready_df = pd.concat(list(dfs.values())).set_index('pixel_id')\n",
    "ready_df.to_sql('lucas', conn, if_exists='fail', index=True)\n",
    "\n",
    "\n",
    "#col_exec = ''\n",
    "#for col in cols:\n",
    "#    if col not in ['class', 'day']:\n",
    "#        col_exec+=f'\\n            \\'{col}\\' NUM,'\n",
    "#    else:\n",
    "#        col_exec+=f'\\n            \\'{col}\\' TEXT,'\n",
    "\n",
    "#col_exec = col_exec[:-1]\n",
    "\n",
    "#c.execute(f\"\"\"CREATE TABLE IF NOT EXISTS lucas (\n",
    "#            id INTEGER PRIMARY KEY,\n",
    "#            {col_exec}\n",
    "#            )\"\"\")\n",
    "\n",
    "\n",
    "#conn.commit()\n"
   ]
  },
  {
   "cell_type": "code",
   "execution_count": null,
   "metadata": {},
   "outputs": [],
   "source": [
    "ready_df['day'].unique()"
   ]
  },
  {
   "cell_type": "code",
   "execution_count": null,
   "metadata": {},
   "outputs": [],
   "source": [
    "ready_df.shape[0] / 8\n"
   ]
  },
  {
   "cell_type": "code",
   "execution_count": null,
   "metadata": {},
   "outputs": [],
   "source": [
    "ready_df.dtypes"
   ]
  },
  {
   "cell_type": "code",
   "execution_count": null,
   "metadata": {},
   "outputs": [],
   "source": []
  }
 ],
 "metadata": {
  "kernelspec": {
   "display_name": "Python 3",
   "language": "python",
   "name": "python3"
  },
  "language_info": {
   "codemirror_mode": {
    "name": "ipython",
    "version": 3
   },
   "file_extension": ".py",
   "mimetype": "text/x-python",
   "name": "python",
   "nbconvert_exporter": "python",
   "pygments_lexer": "ipython3",
   "version": "3.7.4"
  }
 },
 "nbformat": 4,
 "nbformat_minor": 2
}
